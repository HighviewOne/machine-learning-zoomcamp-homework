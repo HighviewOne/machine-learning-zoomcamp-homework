{
 "cells": [
  {
   "cell_type": "code",
   "execution_count": 1,
   "id": "b54f16a9-7dbe-43f1-999d-06ece50c86c5",
   "metadata": {},
   "outputs": [],
   "source": [
    "import pandas as pd\n",
    "import numpy as np\n",
    "from sklearn.model_selection import train_test_split\n",
    "from sklearn.preprocessing import OneHotEncoder, LabelEncoder\n",
    "from sklearn.linear_model import LogisticRegression\n",
    "from sklearn.compose import ColumnTransformer\n",
    "from sklearn.pipeline import Pipeline\n",
    "from sklearn.metrics import accuracy_score, classification_report, confusion_matrix\n",
    "from sklearn.feature_selection import mutual_info_classif\n",
    "import seaborn as sns\n",
    "import matplotlib.pyplot as plt\n",
    "import sklearn"
   ]
  },
  {
   "cell_type": "code",
   "execution_count": 2,
   "id": "9566edc0-066b-47c2-9c36-683f1942923c",
   "metadata": {},
   "outputs": [
    {
     "name": "stdout",
     "output_type": "stream",
     "text": [
      "Scikit-Learn Version: 1.7.1\n"
     ]
    }
   ],
   "source": [
    "print(f\"Scikit-Learn Version: {sklearn.__version__}\")"
   ]
  },
  {
   "cell_type": "code",
   "execution_count": 3,
   "id": "bf82ed66-f6e5-47b7-833d-9d42a41f4c4d",
   "metadata": {},
   "outputs": [
    {
     "name": "stdout",
     "output_type": "stream",
     "text": [
      "Dataset shape: (1462, 9)\n"
     ]
    }
   ],
   "source": [
    "# ============================================================\n",
    "# DATA LOADING AND PREPARATION\n",
    "# ============================================================\n",
    "\n",
    "df = pd.read_csv('course_lead_scoring.txt')\n",
    "print(f\"Dataset shape: {df.shape}\")"
   ]
  },
  {
   "cell_type": "code",
   "execution_count": 4,
   "id": "132c1dab-b18f-49ad-919c-d80d52885aa7",
   "metadata": {},
   "outputs": [],
   "source": [
    "# Replace missing values\n",
    "# Categorical features: replace with 'NA'\n",
    "df['industry'] = df['industry'].fillna('NA').replace('', 'NA')\n",
    "df['lead_source'] = df['lead_source'].fillna('NA').replace('', 'NA')\n",
    "df['employment_status'] = df['employment_status'].fillna('NA').replace('', 'NA')\n",
    "df['location'] = df['location'].fillna('NA').replace('', 'NA')"
   ]
  },
  {
   "cell_type": "code",
   "execution_count": 5,
   "id": "3a083978-b417-49b0-80b1-58cab1b34e2f",
   "metadata": {},
   "outputs": [
    {
     "name": "stdout",
     "output_type": "stream",
     "text": [
      "Missing values after preparation:\n",
      "lead_source                 0\n",
      "industry                    0\n",
      "number_of_courses_viewed    0\n",
      "annual_income               0\n",
      "employment_status           0\n",
      "location                    0\n",
      "interaction_count           0\n",
      "lead_score                  0\n",
      "converted                   0\n",
      "dtype: int64\n"
     ]
    }
   ],
   "source": [
    "# Numerical features: replace with 0.0\n",
    "df['number_of_courses_viewed'] = df['number_of_courses_viewed'].fillna(0.0)\n",
    "df['annual_income'] = df['annual_income'].fillna(0.0)\n",
    "df['interaction_count'] = df['interaction_count'].fillna(0.0)\n",
    "df['lead_score'] = df['lead_score'].fillna(0.0)\n",
    "\n",
    "print(f\"Missing values after preparation:\\n{df.isnull().sum()}\")"
   ]
  },
  {
   "cell_type": "code",
   "execution_count": 6,
   "id": "0ee1c5ad-dbb9-4b47-8e27-7853629835ef",
   "metadata": {},
   "outputs": [],
   "source": [
    "# ============================================================\n",
    "# QUESTION 1: INDUSTRY MODE\n",
    "# ============================================================"
   ]
  },
  {
   "cell_type": "code",
   "execution_count": 7,
   "id": "b9a6c89c-9c4e-4ef1-8fb9-1001af09be33",
   "metadata": {},
   "outputs": [
    {
     "name": "stdout",
     "output_type": "stream",
     "text": [
      "\n",
      "============================================================\n",
      "QUESTION 1: Industry Mode\n",
      "============================================================\n",
      "Mode (Most Frequent Value): retail\n",
      "\n",
      "Industry Distribution:\n",
      "industry\n",
      "retail           203\n",
      "finance          200\n",
      "other            198\n",
      "healthcare       187\n",
      "education        187\n",
      "technology       179\n",
      "manufacturing    174\n",
      "NA               134\n",
      "Name: count, dtype: int64\n"
     ]
    }
   ],
   "source": [
    "industry_mode = df['industry'].mode()[0]\n",
    "industry_counts = df['industry'].value_counts()\n",
    "\n",
    "print(f\"\\n{'='*60}\")\n",
    "print(f\"QUESTION 1: Industry Mode\")\n",
    "print(f\"{'='*60}\")\n",
    "print(f\"Mode (Most Frequent Value): {industry_mode}\")\n",
    "print(f\"\\nIndustry Distribution:\")\n",
    "print(industry_counts)"
   ]
  },
  {
   "cell_type": "code",
   "execution_count": 8,
   "id": "60a733e6-9ae1-43fe-b4d4-c2ec2fc678ac",
   "metadata": {},
   "outputs": [],
   "source": [
    "# ============================================================\n",
    "# DATA SPLIT (for Questions 2-6)\n",
    "# ============================================================"
   ]
  },
  {
   "cell_type": "code",
   "execution_count": 9,
   "id": "0ccd449a-f477-4bb4-bb74-854f618f3a3f",
   "metadata": {},
   "outputs": [
    {
     "name": "stdout",
     "output_type": "stream",
     "text": [
      "\n",
      "============================================================\n",
      "DATA SPLIT: 60/20/20\n",
      "============================================================\n",
      "Train set size: 877 (60.0%)\n",
      "Validation set size: 292 (20.0%)\n",
      "Test set size: 293 (20.0%)\n"
     ]
    }
   ],
   "source": [
    "X = df.drop('converted', axis=1)\n",
    "y = df['converted']\n",
    "\n",
    "X_train, X_temp, y_train, y_temp = train_test_split(\n",
    "    X, y, test_size=0.4, random_state=42\n",
    ")\n",
    "\n",
    "X_val, X_test, y_val, y_test = train_test_split(\n",
    "    X_temp, y_temp, test_size=0.5, random_state=42\n",
    ")\n",
    "\n",
    "print(f\"\\n{'='*60}\")\n",
    "print(f\"DATA SPLIT: 60/20/20\")\n",
    "print(f\"{'='*60}\")\n",
    "print(f\"Train set size: {len(X_train)} ({len(X_train)/len(df)*100:.1f}%)\")\n",
    "print(f\"Validation set size: {len(X_val)} ({len(X_val)/len(df)*100:.1f}%)\")\n",
    "print(f\"Test set size: {len(X_test)} ({len(X_test)/len(df)*100:.1f}%)\")"
   ]
  },
  {
   "cell_type": "code",
   "execution_count": 10,
   "id": "42868082-af5a-427f-b469-8a07094f9374",
   "metadata": {},
   "outputs": [],
   "source": [
    "# ============================================================\n",
    "# QUESTION 2: CORRELATION MATRIX\n",
    "# ============================================================"
   ]
  },
  {
   "cell_type": "code",
   "execution_count": 11,
   "id": "f10a3bc4-54c1-49a9-8e42-a56e512d063f",
   "metadata": {},
   "outputs": [
    {
     "name": "stdout",
     "output_type": "stream",
     "text": [
      "\n",
      "============================================================\n",
      "QUESTION 2: Correlation Matrix\n",
      "============================================================\n",
      "                          number_of_courses_viewed  annual_income  \\\n",
      "number_of_courses_viewed                  1.000000       0.009770   \n",
      "annual_income                             0.009770       1.000000   \n",
      "interaction_count                        -0.023565       0.027036   \n",
      "lead_score                               -0.004879       0.015610   \n",
      "\n",
      "                          interaction_count  lead_score  \n",
      "number_of_courses_viewed          -0.023565   -0.004879  \n",
      "annual_income                      0.027036    0.015610  \n",
      "interaction_count                  1.000000    0.009888  \n",
      "lead_score                         0.009888    1.000000  \n"
     ]
    }
   ],
   "source": [
    "numerical_features = ['number_of_courses_viewed', 'annual_income', 'interaction_count', 'lead_score']\n",
    "df_numerical = df[numerical_features]\n",
    "correlation_matrix = df_numerical.corr()\n",
    "\n",
    "print(f\"\\n{'='*60}\")\n",
    "print(f\"QUESTION 2: Correlation Matrix\")\n",
    "print(f\"{'='*60}\")\n",
    "print(correlation_matrix)"
   ]
  },
  {
   "cell_type": "code",
   "execution_count": 12,
   "id": "8571d5bb-06da-42d6-bc6b-5effd7d3c7a0",
   "metadata": {},
   "outputs": [
    {
     "data": {
      "image/png": "[encoded data removed]",
      "text/plain": [
       "<Figure size 800x600 with 2 Axes>"
      ]
     },
     "metadata": {},
     "output_type": "display_data"
    },
    {
     "name": "stdout",
     "output_type": "stream",
     "text": [
      "\n",
      "Correlation values for specified pairs (sorted by magnitude):\n",
      "annual_income & interaction_count: 0.027036\n",
      "number_of_courses_viewed & interaction_count: -0.023565\n",
      "interaction_count & lead_score: 0.009888\n",
      "number_of_courses_viewed & lead_score: -0.004879\n",
      "\n",
      "Biggest Correlation Pair: annual_income & interaction_count\n",
      "Coefficient: 0.027036\n"
     ]
    }
   ],
   "source": [
    "# Visualize\n",
    "plt.figure(figsize=(8, 6))\n",
    "sns.heatmap(correlation_matrix, annot=True, cmap='coolwarm', center=0, fmt='.3f')\n",
    "plt.title('Correlation Matrix - Numerical Features')\n",
    "plt.tight_layout()\n",
    "plt.show()\n",
    "\n",
    "pairs = [\n",
    "    ('interaction_count', 'lead_score'),\n",
    "    ('number_of_courses_viewed', 'lead_score'),\n",
    "    ('number_of_courses_viewed', 'interaction_count'),\n",
    "    ('annual_income', 'interaction_count')\n",
    "]\n",
    "\n",
    "correlations = []\n",
    "for feat1, feat2 in pairs:\n",
    "    corr_value = correlation_matrix.loc[feat1, feat2]\n",
    "    correlations.append({\n",
    "        'Pair': f\"{feat1} & {feat2}\",\n",
    "        'Correlation': corr_value,\n",
    "        'Abs_Correlation': abs(corr_value)\n",
    "    })\n",
    "\n",
    "correlations_sorted = sorted(correlations, key=lambda x: x['Abs_Correlation'], reverse=True)\n",
    "\n",
    "print(\"\\nCorrelation values for specified pairs (sorted by magnitude):\")\n",
    "for item in correlations_sorted:\n",
    "    print(f\"{item['Pair']}: {item['Correlation']:.6f}\")\n",
    "\n",
    "biggest_corr = correlations_sorted[0]\n",
    "print(f\"\\nBiggest Correlation Pair: {biggest_corr['Pair']}\")\n",
    "print(f\"Coefficient: {biggest_corr['Correlation']:.6f}\")"
   ]
  },
  {
   "cell_type": "code",
   "execution_count": 13,
   "id": "ca4570d2-a5c4-4b14-b4f6-b970926de1f2",
   "metadata": {},
   "outputs": [],
   "source": [
    "# ============================================================\n",
    "# QUESTION 3: MUTUAL INFORMATION SCORE\n",
    "# ============================================================"
   ]
  },
  {
   "cell_type": "code",
   "execution_count": 15,
   "id": "0578cdc4-996e-45be-8309-8fd0f4697a55",
   "metadata": {},
   "outputs": [
    {
     "name": "stdout",
     "output_type": "stream",
     "text": [
      "\n",
      "============================================================\n",
      "QUESTION 3: Mutual Information Score\n",
      "============================================================\n",
      "Mutual Information Scores (sorted):\n",
      "          Feature  Mutual Information Score\n",
      "employment_status                      0.04\n",
      "         industry                      0.02\n",
      "      lead_source                      0.01\n",
      "         location                      0.00\n",
      "\n",
      "Feature with Biggest MI Score: employment_status (0.04)\n"
     ]
    }
   ],
   "source": [
    "print(f\"\\n{'='*60}\")\n",
    "print(f\"QUESTION 3: Mutual Information Score\")\n",
    "print(f\"{'='*60}\")\n",
    "\n",
    "categorical_features = ['industry', 'location', 'lead_source', 'employment_status']\n",
    "\n",
    "X_train_encoded = X_train.copy()\n",
    "label_encoders = {}\n",
    "\n",
    "for feature in categorical_features:\n",
    "    le = LabelEncoder()\n",
    "    X_train_encoded[feature] = le.fit_transform(X_train[feature])\n",
    "    label_encoders[feature] = le\n",
    "\n",
    "mi_scores = mutual_info_classif(X_train_encoded[categorical_features], y_train, random_state=42)\n",
    "\n",
    "results = pd.DataFrame({\n",
    "    'Feature': categorical_features,\n",
    "    'Mutual Information Score': mi_scores\n",
    "})\n",
    "\n",
    "results['Mutual Information Score'] = results['Mutual Information Score'].apply(lambda x: round(x, 2))\n",
    "results = results.sort_values('Mutual Information Score', ascending=False)\n",
    "\n",
    "print(\"Mutual Information Scores (sorted):\")\n",
    "print(results.to_string(index=False))\n",
    "\n",
    "biggest_score_feature = results.iloc[0]['Feature']\n",
    "biggest_score_value = results.iloc[0]['Mutual Information Score']\n",
    "print(f\"\\nFeature with Biggest MI Score: {biggest_score_feature} ({biggest_score_value})\")\n"
   ]
  },
  {
   "cell_type": "code",
   "execution_count": 16,
   "id": "575e3811-97bb-49cc-970c-4ab03a4c78de",
   "metadata": {},
   "outputs": [],
   "source": [
    "# ============================================================\n",
    "# QUESTION 4: LOGISTIC REGRESSION (C=1.0)\n",
    "# ============================================================"
   ]
  },
  {
   "cell_type": "code",
   "execution_count": 17,
   "id": "d9074e72-1428-49a6-a495-f3dc43bdf995",
   "metadata": {},
   "outputs": [
    {
     "name": "stdout",
     "output_type": "stream",
     "text": [
      "\n",
      "============================================================\n",
      "QUESTION 4: Logistic Regression (C=1.0)\n",
      "============================================================\n",
      "Validation Accuracy: 0.74\n",
      "\n",
      "Classification Report:\n",
      "               precision    recall  f1-score   support\n",
      "\n",
      "Not Converted       0.70      0.37      0.48        95\n",
      "    Converted       0.75      0.92      0.83       197\n",
      "\n",
      "     accuracy                           0.74       292\n",
      "    macro avg       0.73      0.65      0.66       292\n",
      " weighted avg       0.74      0.74      0.72       292\n",
      "\n"
     ]
    }
   ],
   "source": [
    "print(f\"\\n{'='*60}\")\n",
    "print(f\"QUESTION 4: Logistic Regression (C=1.0)\")\n",
    "print(f\"{'='*60}\")\n",
    "\n",
    "categorical_features = ['industry', 'location', 'lead_source', 'employment_status']\n",
    "numerical_features = ['number_of_courses_viewed', 'annual_income', 'interaction_count', 'lead_score']\n",
    "\n",
    "preprocessor = ColumnTransformer(\n",
    "    transformers=[\n",
    "        ('cat', OneHotEncoder(handle_unknown='ignore'), categorical_features),\n",
    "        ('num', 'passthrough', numerical_features)\n",
    "    ])\n",
    "\n",
    "model_q4 = Pipeline(steps=[\n",
    "    ('preprocessor', preprocessor),\n",
    "    ('classifier', LogisticRegression(solver='liblinear', C=1.0, max_iter=1000, random_state=42))\n",
    "])\n",
    "\n",
    "model_q4.fit(X_train, y_train)\n",
    "y_val_pred_q4 = model_q4.predict(X_val)\n",
    "val_accuracy_q4 = accuracy_score(y_val, y_val_pred_q4)\n",
    "val_accuracy_q4_rounded = round(val_accuracy_q4, 2)\n",
    "\n",
    "print(f\"Validation Accuracy: {val_accuracy_q4_rounded}\")\n",
    "print(f\"\\nClassification Report:\")\n",
    "print(classification_report(y_val, y_val_pred_q4, target_names=['Not Converted', 'Converted']))\n"
   ]
  },
  {
   "cell_type": "code",
   "execution_count": 18,
   "id": "d6cfe525-89d8-450d-81d1-3021dd7231e0",
   "metadata": {},
   "outputs": [],
   "source": [
    "# ============================================================\n",
    "# QUESTION 5: FEATURE ELIMINATION\n",
    "# ============================================================"
   ]
  },
  {
   "cell_type": "code",
   "execution_count": 19,
   "id": "83b13a8c-b91d-43db-a100-7cc13633d0e2",
   "metadata": {},
   "outputs": [
    {
     "name": "stdout",
     "output_type": "stream",
     "text": [
      "\n",
      "============================================================\n",
      "QUESTION 5: Feature Elimination\n",
      "============================================================\n",
      "Baseline Accuracy: 0.7431506849315068\n",
      "\n",
      "Feature Elimination Results (sorted by difference):\n",
      "          Feature  Accuracy without feature  Difference (baseline - without)\n",
      "employment_status                  0.746575                        -0.003425\n",
      "         industry                  0.743151                         0.000000\n",
      "       lead_score                  0.743151                         0.000000\n",
      "\n",
      "Feature with Smallest Difference: employment_status\n",
      "Difference: -0.003424657534246589\n"
     ]
    }
   ],
   "source": [
    "print(f\"\\n{'='*60}\")\n",
    "print(f\"QUESTION 5: Feature Elimination\")\n",
    "print(f\"{'='*60}\")\n",
    "\n",
    "baseline_accuracy = val_accuracy_q4\n",
    "features_to_test = ['industry', 'employment_status', 'lead_score']\n",
    "elimination_results = []\n",
    "\n",
    "for feature_to_drop in features_to_test:\n",
    "    cat_features_reduced = [f for f in categorical_features if f != feature_to_drop]\n",
    "    num_features_reduced = [f for f in numerical_features if f != feature_to_drop]\n",
    "    \n",
    "    preprocessor_reduced = ColumnTransformer(\n",
    "        transformers=[\n",
    "            ('cat', OneHotEncoder(handle_unknown='ignore'), cat_features_reduced) if cat_features_reduced else ('cat', 'drop', []),\n",
    "            ('num', 'passthrough', num_features_reduced) if num_features_reduced else ('num', 'drop', [])\n",
    "        ])\n",
    "    \n",
    "    model_reduced = Pipeline(steps=[\n",
    "        ('preprocessor', preprocessor_reduced),\n",
    "        ('classifier', LogisticRegression(solver='liblinear', C=1.0, max_iter=1000, random_state=42))\n",
    "    ])\n",
    "    \n",
    "    model_reduced.fit(X_train[cat_features_reduced + num_features_reduced], y_train)\n",
    "    y_val_pred_reduced = model_reduced.predict(X_val[cat_features_reduced + num_features_reduced])\n",
    "    reduced_accuracy = accuracy_score(y_val, y_val_pred_reduced)\n",
    "    difference = baseline_accuracy - reduced_accuracy\n",
    "    \n",
    "    elimination_results.append({\n",
    "        'Feature': feature_to_drop,\n",
    "        'Accuracy without feature': reduced_accuracy,\n",
    "        'Difference (baseline - without)': difference\n",
    "    })\n",
    "\n",
    "results_elim = pd.DataFrame(elimination_results)\n",
    "results_elim = results_elim.sort_values('Difference (baseline - without)', ascending=True)\n",
    "\n",
    "print(f\"Baseline Accuracy: {baseline_accuracy}\")\n",
    "print(\"\\nFeature Elimination Results (sorted by difference):\")\n",
    "print(results_elim.to_string(index=False))\n",
    "\n",
    "smallest_diff_feature = results_elim.iloc[0]['Feature']\n",
    "smallest_diff_value = results_elim.iloc[0]['Difference (baseline - without)']\n",
    "print(f\"\\nFeature with Smallest Difference: {smallest_diff_feature}\")\n",
    "print(f\"Difference: {smallest_diff_value}\")"
   ]
  },
  {
   "cell_type": "code",
   "execution_count": 20,
   "id": "5f6d36e4-7723-42c0-90a3-59f65e5ef742",
   "metadata": {},
   "outputs": [],
   "source": [
    "# ============================================================\n",
    "# QUESTION 6: HYPERPARAMETER TUNING (C values)\n",
    "# ============================================================"
   ]
  },
  {
   "cell_type": "code",
   "execution_count": 21,
   "id": "36a52565-78b1-4085-afab-bf5187af3bb5",
   "metadata": {},
   "outputs": [
    {
     "name": "stdout",
     "output_type": "stream",
     "text": [
      "\n",
      "============================================================\n",
      "QUESTION 6: Hyperparameter Tuning - C Values\n",
      "============================================================\n",
      "Results (sorted by validation accuracy):\n",
      "     C  Validation Accuracy  Validation Accuracy (rounded to 3)\n",
      "  0.01             0.743151                               0.743\n",
      "  0.10             0.743151                               0.743\n",
      "  1.00             0.743151                               0.743\n",
      " 10.00             0.743151                               0.743\n",
      "100.00             0.743151                               0.743\n",
      "\n",
      "Best C value: 0.01\n",
      "Validation Accuracy: 0.743\n",
      "\n",
      "Results ordered by C value:\n",
      "     C  Validation Accuracy (rounded to 3)\n",
      "  0.01                               0.743\n",
      "  0.10                               0.743\n",
      "  1.00                               0.743\n",
      " 10.00                               0.743\n",
      "100.00                               0.743\n"
     ]
    }
   ],
   "source": [
    "print(f\"\\n{'='*60}\")\n",
    "print(f\"QUESTION 6: Hyperparameter Tuning - C Values\")\n",
    "print(f\"{'='*60}\")\n",
    "\n",
    "C_values = [0.01, 0.1, 1, 10, 100]\n",
    "tuning_results = []\n",
    "\n",
    "for C in C_values:\n",
    "    preprocessor = ColumnTransformer(\n",
    "        transformers=[\n",
    "            ('cat', OneHotEncoder(handle_unknown='ignore'), categorical_features),\n",
    "            ('num', 'passthrough', numerical_features)\n",
    "        ])\n",
    "    \n",
    "    model = Pipeline(steps=[\n",
    "        ('preprocessor', preprocessor),\n",
    "        ('classifier', LogisticRegression(solver='liblinear', C=C, max_iter=1000, random_state=42))\n",
    "    ])\n",
    "    \n",
    "    model.fit(X_train, y_train)\n",
    "    y_val_pred = model.predict(X_val)\n",
    "    val_accuracy = accuracy_score(y_val, y_val_pred)\n",
    "    val_accuracy_rounded = round(val_accuracy, 3)\n",
    "    \n",
    "    tuning_results.append({\n",
    "        'C': C,\n",
    "        'Validation Accuracy': val_accuracy,\n",
    "        'Validation Accuracy (rounded to 3)': val_accuracy_rounded\n",
    "    })\n",
    "\n",
    "results_tuning = pd.DataFrame(tuning_results)\n",
    "results_tuning_sorted = results_tuning.sort_values('Validation Accuracy', ascending=False)\n",
    "\n",
    "print(\"Results (sorted by validation accuracy):\")\n",
    "print(results_tuning_sorted.to_string(index=False))\n",
    "\n",
    "best_C = results_tuning_sorted.iloc[0]['C']\n",
    "best_accuracy = results_tuning_sorted.iloc[0]['Validation Accuracy (rounded to 3)']\n",
    "\n",
    "print(f\"\\nBest C value: {best_C}\")\n",
    "print(f\"Validation Accuracy: {best_accuracy}\")\n",
    "\n",
    "print(\"\\nResults ordered by C value:\")\n",
    "results_tuning_ordered = pd.DataFrame(tuning_results).sort_values('C')\n",
    "print(results_tuning_ordered[['C', 'Validation Accuracy (rounded to 3)']].to_string(index=False))"
   ]
  },
  {
   "cell_type": "code",
   "execution_count": null,
   "id": "3cba6416-8e24-4ce9-8867-bc94e561e8c6",
   "metadata": {},
   "outputs": [],
   "source": []
  }
 ],
 "metadata": {
  "kernelspec": {
   "display_name": "Python (MLZoomCamp_env)",
   "language": "python",
   "name": "mlzoomcamp_kernel"
  },
  "language_info": {
   "codemirror_mode": {
    "name": "ipython",
    "version": 3
   },
   "file_extension": ".py",
   "mimetype": "text/x-python",
   "name": "python",
   "nbconvert_exporter": "python",
   "pygments_lexer": "ipython3",
   "version": "3.11.13"
  }
 },
 "nbformat": 4,
 "nbformat_minor": 5
}
